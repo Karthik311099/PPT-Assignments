{
 "cells": [
  {
   "cell_type": "markdown",
   "metadata": {},
   "source": [
    "# Python Question 1: \n",
    "Write a program that takes a string as input, and counts the frequency of each word in the string, there might\n",
    "be repeated characters in the string. Your task is to find the highest frequency and returns the length of the\n",
    "highest-frequency word.\n"
   ]
  },
  {
   "cell_type": "code",
   "execution_count": 1,
   "metadata": {},
   "outputs": [],
   "source": [
    "def find_highest_frequency_word_length(string):\n",
    "    # Split the string into individual words\n",
    "    words = string.split()\n",
    "\n",
    "    # Create a dictionary to store word frequencies\n",
    "    word_freq = {}\n",
    "\n",
    "    # Count the frequency of each word\n",
    "    for word in words:\n",
    "        word_freq[word] = word_freq.get(word, 0) + 1\n",
    "\n",
    "    # Find the highest frequency\n",
    "    max_freq = max(word_freq.values())\n",
    "\n",
    "    # Find the length of the highest-frequency word\n",
    "    max_freq_word = max(word_freq, key=word_freq.get)\n",
    "    max_freq_word_length = len(max_freq_word)\n",
    "\n",
    "    return max_freq_word_length,max_freq_word"
   ]
  },
  {
   "cell_type": "markdown",
   "metadata": {},
   "source": [
    "#### Case 1:"
   ]
  },
  {
   "cell_type": "code",
   "execution_count": 2,
   "metadata": {},
   "outputs": [
    {
     "name": "stdout",
     "output_type": "stream",
     "text": [
      "From the given string we can note that the most frequent words is -- 'write' and its corresponding length is -- 5\n"
     ]
    }
   ],
   "source": [
    "input_string = \"write write write all the number from from 1 to 100\"\n",
    "result = find_highest_frequency_word_length(input_string)\n",
    "print(f\"From the given string we can note that the most frequent words is -- '{result[1]}' and its corresponding length is -- {result[0]}\")"
   ]
  },
  {
   "cell_type": "markdown",
   "metadata": {},
   "source": [
    "#### Case 2:"
   ]
  },
  {
   "cell_type": "code",
   "execution_count": 3,
   "metadata": {
    "scrolled": false
   },
   "outputs": [
    {
     "name": "stdout",
     "output_type": "stream",
     "text": [
      "From the given string we can note that the most frequent words is -- 'have' and its corresponding length is -- 4\n"
     ]
    }
   ],
   "source": [
    "input_string = \"hello, I'm karthik from TamilNadu, I have skills in python, and i have have skills in ML \"\n",
    "result = find_highest_frequency_word_length(input_string)\n",
    "print(f\"From the given string we can note that the most frequent words is -- '{result[1]}' and its corresponding length is -- {result[0]}\")"
   ]
  }
 ],
 "metadata": {
  "kernelspec": {
   "display_name": "Python 3 (ipykernel)",
   "language": "python",
   "name": "python3"
  },
  "language_info": {
   "codemirror_mode": {
    "name": "ipython",
    "version": 3
   },
   "file_extension": ".py",
   "mimetype": "text/x-python",
   "name": "python",
   "nbconvert_exporter": "python",
   "pygments_lexer": "ipython3",
   "version": "3.9.13"
  }
 },
 "nbformat": 4,
 "nbformat_minor": 2
}
