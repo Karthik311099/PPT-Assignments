{
 "cells": [
  {
   "cell_type": "markdown",
   "id": "c06d2ba8",
   "metadata": {},
   "source": [
    "# Question 10 -\n",
    "Write a program to count the number of verbs, nouns, pronouns, and adjectives in a given particular phrase or\n",
    "paragraph, and return their respective count as a dictionary\n"
   ]
  },
  {
   "cell_type": "code",
   "execution_count": 1,
   "id": "16a4c349",
   "metadata": {},
   "outputs": [],
   "source": [
    "import re\n",
    "\n",
    "def count_pos_tags(text):\n",
    "   \n",
    "    noun_pattern = re.compile(r'\\b[A-Za-z]+[s]?\\b', re.IGNORECASE)\n",
    "    pronoun_pattern = re.compile(r'\\b(I|me|my|mine|you|your|yours|he|him|his|she|her|hers|it|its|we|us|our|ours|they|them|their|theirs)\\b', re.IGNORECASE)\n",
    "    verb_pattern = re.compile(r'\\b[A-Za-z]+(?:s|ed|ing)?\\b', re.IGNORECASE)\n",
    "    adjective_pattern = re.compile(r'\\b[A-Za-z]+\\b', re.IGNORECASE)\n",
    "\n",
    "    # count variables\n",
    "    noun_count = 0\n",
    "    pronoun_count = 0\n",
    "    verb_count = 0\n",
    "    adjective_count = 0\n",
    "\n",
    "    # Find matches \n",
    "    noun_matches = re.findall(noun_pattern, text)\n",
    "    pronoun_matches = re.findall(pronoun_pattern, text)\n",
    "    verb_matches = re.findall(verb_pattern, text)\n",
    "    adjective_matches = re.findall(adjective_pattern, text)\n",
    "\n",
    "    # Count the matches\n",
    "    noun_count = len(noun_matches)\n",
    "    pronoun_count = len(pronoun_matches)\n",
    "    verb_count = len(verb_matches)\n",
    "    adjective_count = len(adjective_matches)\n",
    "\n",
    "    # return the dictionary\n",
    "    pos_counts = {\n",
    "        'nouns': noun_count,\n",
    "        'pronouns': pronoun_count,\n",
    "        'verbs': verb_count,\n",
    "        'adjectives': adjective_count\n",
    "    }\n",
    "    return pos_counts\n",
    "text = \"Linear regression\""
   ]
  },
  {
   "cell_type": "code",
   "execution_count": 2,
   "id": "2af546ea",
   "metadata": {},
   "outputs": [
    {
     "name": "stdout",
     "output_type": "stream",
     "text": [
      "{'nouns': 68, 'pronouns': 5, 'verbs': 68, 'adjectives': 68}\n"
     ]
    }
   ],
   "source": [
    "text = \"\"\"A chemist had two chemical flasks labeled 0 and 1 which consist of two\n",
    "different chemicals. He extracted 3 features from these chemicals in order to\n",
    "distinguish between them, you provided the results derived by the chemicals and\n",
    "your task is to create a model that will label chemical 0 or 1 given its three features\n",
    "and built-in docker and use some library to display that in frontend.\n",
    "Note : Use only pyspark\n",
    "\"\"\"\n",
    "result = count_pos_tags(text)\n",
    "print(result)"
   ]
  },
  {
   "cell_type": "code",
   "execution_count": 3,
   "id": "255f777d",
   "metadata": {},
   "outputs": [
    {
     "name": "stdout",
     "output_type": "stream",
     "text": [
      "{'nouns': 79, 'pronouns': 7, 'verbs': 79, 'adjectives': 79}\n"
     ]
    }
   ],
   "source": [
    "text = \"\"\"A company wants to predict the sales of its product based on the money spent\n",
    "on different platforms for marketing. They want you to figure out how they can\n",
    "spend money on marketing in the future in such a way that they can increase their\n",
    "profit as much as possible built-in docker and use some library to display that in\n",
    "frontend Dataset This is the Dataset You can use this dataset for this question. Note:\n",
    "Use only Dask\"\"\"\n",
    "result = count_pos_tags(text)\n",
    "print(result)"
   ]
  },
  {
   "cell_type": "code",
   "execution_count": 4,
   "id": "21209b8f",
   "metadata": {
    "scrolled": true
   },
   "outputs": [
    {
     "name": "stdout",
     "output_type": "stream",
     "text": [
      "{'nouns': 62, 'pronouns': 0, 'verbs': 62, 'adjectives': 62}\n"
     ]
    }
   ],
   "source": [
    "text = \"\"\"1. Use PyTorch as the framework for training model\n",
    "2. Use Distributed Parallel Training technique to optimize training time.\n",
    "3. Achieve an accuracy of at least 85% on the validation dataset.\n",
    "4. Use albumentations library for image transformation\n",
    "5. Use TensorBoard logging for visualizing training performance\n",
    "6. Use custom modular Python scripts to train model\n",
    "7. Only Jupyter notebooks will not be allowed\n",
    "8. Write code comments wherever needed for understanding\"\"\"\n",
    "result = count_pos_tags(text)\n",
    "print(result)"
   ]
  }
 ],
 "metadata": {
  "kernelspec": {
   "display_name": "Python 3 (ipykernel)",
   "language": "python",
   "name": "python3"
  },
  "language_info": {
   "codemirror_mode": {
    "name": "ipython",
    "version": 3
   },
   "file_extension": ".py",
   "mimetype": "text/x-python",
   "name": "python",
   "nbconvert_exporter": "python",
   "pygments_lexer": "ipython3",
   "version": "3.9.13"
  }
 },
 "nbformat": 4,
 "nbformat_minor": 5
}
